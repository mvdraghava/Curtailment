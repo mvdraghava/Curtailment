{
 "cells": [
  {
   "cell_type": "code",
   "execution_count": 35,
   "metadata": {},
   "outputs": [],
   "source": [
    "import pandas as pd\n",
    "from datetime import timedelta, date"
   ]
  },
  {
   "cell_type": "code",
   "execution_count": 39,
   "metadata": {},
   "outputs": [],
   "source": [
    "start_dt = date(2020, 2, 1)\n",
    "end_dt = date(2020, 5, 27)\n",
    "date_list = [(start_dt + timedelta(n)).strftime('%d%m%y') for n in range(int ((end_dt - start_dt).days)+1)]"
   ]
  },
  {
   "cell_type": "code",
   "execution_count": 40,
   "metadata": {},
   "outputs": [],
   "source": [
    "final_df = pd.DataFrame()\n",
    "df_list = []\n",
    "for dt in date_list:\n",
    "    df = pd.read_csv(dt + '.1ar',skiprows=4,header=[1,2])\n",
    "    df = df.drop([96])\n",
    "    req_list = [dt for x in range(96)]\n",
    "    df.insert(0,column='Date',value = req_list)\n",
    "    df.dropna(axis=1)\n",
    "    df_list.append(df)"
   ]
  },
  {
   "cell_type": "code",
   "execution_count": 41,
   "metadata": {},
   "outputs": [],
   "source": [
    "final_df.to_excel('merged_file.xlsx')"
   ]
  },
  {
   "cell_type": "code",
   "execution_count": null,
   "metadata": {},
   "outputs": [],
   "source": []
  }
 ],
 "metadata": {
  "kernelspec": {
   "display_name": "Python 3",
   "language": "python",
   "name": "python3"
  },
  "language_info": {
   "codemirror_mode": {
    "name": "ipython",
    "version": 3
   },
   "file_extension": ".py",
   "mimetype": "text/x-python",
   "name": "python",
   "nbconvert_exporter": "python",
   "pygments_lexer": "ipython3",
   "version": "3.7.1"
  }
 },
 "nbformat": 4,
 "nbformat_minor": 2
}
