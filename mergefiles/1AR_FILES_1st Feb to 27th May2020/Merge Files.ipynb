{
 "cells": [
  {
   "cell_type": "code",
   "execution_count": 1,
   "metadata": {},
   "outputs": [],
   "source": [
    "import pandas as pd\n",
    "from datetime import timedelta, date"
   ]
  },
  {
   "cell_type": "code",
   "execution_count": 2,
   "metadata": {},
   "outputs": [],
   "source": [
    "start_dt = date(2020, 2, 1)\n",
    "end_dt = date(2020, 5, 27)\n",
    "date_list = [(start_dt + timedelta(n)).strftime('%d%m%y') for n in range(int ((end_dt - start_dt).days)+1)]"
   ]
  },
  {
   "cell_type": "code",
   "execution_count": 3,
   "metadata": {},
   "outputs": [],
   "source": [
    "final_df = pd.DataFrame()\n",
    "df_list = []\n",
    "for dt in date_list:\n",
    "    df = pd.read_csv(dt + '.1ar',skiprows=4,header = 1)\n",
    "    df = df.drop([0,97])\n",
    "    req_list = [dt for x in range(96)]\n",
    "    df.insert(0,column='Date',value = req_list)\n",
    "    df.dropna(axis=1)\n",
    "    df_list.append(df)"
   ]
  },
  {
   "cell_type": "code",
   "execution_count": null,
   "metadata": {},
   "outputs": [],
   "source": []
  },
  {
   "cell_type": "code",
   "execution_count": 5,
   "metadata": {},
   "outputs": [],
   "source": [
    "for df in df_list:\n",
    "    final_df = final_df.append(df,sort = False)"
   ]
  },
  {
   "cell_type": "code",
   "execution_count": 6,
   "metadata": {},
   "outputs": [
    {
     "data": {
      "text/plain": [
       "Index(['Date', 'TIME', 'RSTPSU1TO6', 'RSTPSU1TO6.1', 'RSTPSU7', 'RSTPSU7.1',\n",
       "       'NLCIIST1', 'NLCIIST1.1', 'NLCIIST2', 'NLCIIST2.1', 'NLCEXP',\n",
       "       'NLCEXP.1', 'KGSU1AND2', 'KGSU1AND2.1', 'KGSU3AND4', 'KGSU3AND4.1',\n",
       "       'MAPS', 'MAPS.1', 'TALST2', 'TALST2.1', 'SIMHST2', 'SIMHST2.1',\n",
       "       'KKNPPU2', 'KKNPPU2.1', 'VALLURNTECL', 'VALLURNTECL.1', 'KKNP',\n",
       "       'KKNP.1', 'NLCTS2EXP', 'NLCTS2EXP.1', 'NTPL', 'NTPL.1', 'KUDGI',\n",
       "       'KUDGI.1', 'SIMHST1', 'SIMHST1.1', 'NNTPP', 'NNTPP.1', 'Unnamed: 37'],\n",
       "      dtype='object')"
      ]
     },
     "execution_count": 6,
     "metadata": {},
     "output_type": "execute_result"
    }
   ],
   "source": [
    "final_df.columns"
   ]
  },
  {
   "cell_type": "code",
   "execution_count": 7,
   "metadata": {},
   "outputs": [],
   "source": [
    "final_df.to_excel('merged_file.xlsx')"
   ]
  },
  {
   "cell_type": "code",
   "execution_count": null,
   "metadata": {},
   "outputs": [],
   "source": []
  }
 ],
 "metadata": {
  "kernelspec": {
   "display_name": "Python 3",
   "language": "python",
   "name": "python3"
  },
  "language_info": {
   "codemirror_mode": {
    "name": "ipython",
    "version": 3
   },
   "file_extension": ".py",
   "mimetype": "text/x-python",
   "name": "python",
   "nbconvert_exporter": "python",
   "pygments_lexer": "ipython3",
   "version": "3.7.1"
  }
 },
 "nbformat": 4,
 "nbformat_minor": 2
}
